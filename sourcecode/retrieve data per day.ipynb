{
 "cells": [
  {
   "cell_type": "code",
   "execution_count": null,
   "id": "441aac25",
   "metadata": {},
   "outputs": [],
   "source": [
    "import ee\n",
    "import pandas as pd\n",
    "import numpy as np\n",
    "from datetime import datetime, timedelta\n",
    "\n",
    "# Inisialisasi Earth Engine\n",
    "ee.Initialize()\n",
    "\n",
    "# Lokasi titik\n",
    "coordinates = np.array([116.2653, -1.8789])\n",
    "x = float(coordinates[0])\n",
    "y = float(coordinates[1])\n",
    "location_point = ee.Geometry.Point(x, y)\n",
    "\n",
    "# Skala dan tanggal\n",
    "scale = 1000\n",
    "date_start = '2022-01-01'\n",
    "date_end = '2025-04-30'\n",
    "\n",
    "# Fungsi bantu untuk membuat daftar tanggal harian\n",
    "def date_range(start, end):\n",
    "    start_dt = datetime.strptime(start, \"%Y-%m-%d\")\n",
    "    end_dt = datetime.strptime(end, \"%Y-%m-%d\")\n",
    "    while start_dt <= end_dt:\n",
    "        yield start_dt\n",
    "        start_dt += timedelta(days=1)\n",
    "\n",
    "# List untuk menyimpan hasil\n",
    "results = []\n",
    "\n",
    "# Loop harian\n",
    "for day in date_range(date_start, date_end):\n",
    "    start = day.strftime('%Y-%m-%d')\n",
    "    end = (day + timedelta(days=1)).strftime('%Y-%m-%d')\n",
    "\n",
    "    # Filter dan agregasi per hari\n",
    "    daily_sum = ee.ImageCollection(\"ECMWF/ERA5/HOURLY\") \\\n",
    "        .filterDate(start, end) \\\n",
    "        .filterBounds(location_point) \\\n",
    "        .select(\"total_precipitation\") \\\n",
    "        .sum() \\\n",
    "        .multiply(1000)  # m ke mm\n",
    "\n",
    "    # Ambil nilai dari titik\n",
    "    sample = daily_sum.sample(\n",
    "        region=location_point,\n",
    "        scale=scale,\n",
    "        numPixels=1,\n",
    "        geometries=True\n",
    "    ).getInfo()\n",
    "\n",
    "    # Ambil hasil jika tersedia\n",
    "    if sample['features']:\n",
    "        val = sample['features'][0]['properties']['total_precipitation']\n",
    "        results.append({\n",
    "            'date': start,\n",
    "            'total_precipitation_mm': max(val, 0)  # pastikan tidak negatif\n",
    "        })\n",
    "\n",
    "# Buat DataFrame\n",
    "df = pd.DataFrame(results)\n",
    "df['date'] = pd.to_datetime(df['date'])\n",
    "df.set_index('date', inplace=True)\n",
    "\n",
    "print(df)\n"
   ]
  },
  {
   "cell_type": "code",
   "execution_count": null,
   "id": "e4858946",
   "metadata": {},
   "outputs": [],
   "source": [
    "df.to_csv('dataset_total_prec_per_dayyy.csv')"
   ]
  }
 ],
 "metadata": {
  "kernelspec": {
   "display_name": "Python 3 (ipykernel)",
   "language": "python",
   "name": "python3"
  },
  "language_info": {
   "codemirror_mode": {
    "name": "ipython",
    "version": 3
   },
   "file_extension": ".py",
   "mimetype": "text/x-python",
   "name": "python",
   "nbconvert_exporter": "python",
   "pygments_lexer": "ipython3",
   "version": "3.11.4"
  }
 },
 "nbformat": 4,
 "nbformat_minor": 5
}
